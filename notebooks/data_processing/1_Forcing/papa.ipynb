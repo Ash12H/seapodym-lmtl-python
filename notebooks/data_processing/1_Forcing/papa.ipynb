{
 "cells": [
  {
   "cell_type": "code",
   "execution_count": null,
   "metadata": {},
   "outputs": [],
   "source": [
    "import copernicusmarine\n",
    "import xarray as xr"
   ]
  },
  {
   "cell_type": "code",
   "execution_count": null,
   "metadata": {},
   "outputs": [],
   "source": [
    "# copernicusmarine.login()"
   ]
  },
  {
   "cell_type": "code",
   "execution_count": null,
   "metadata": {},
   "outputs": [],
   "source": [
    "papa_station_latitude = 50\n",
    "papa_station_longitude = -145"
   ]
  },
  {
   "cell_type": "code",
   "execution_count": null,
   "metadata": {},
   "outputs": [],
   "source": [
    "bio = copernicusmarine.open_dataset(\n",
    "    dataset_id=\"cmems_mod_glo_bgc_my_0.083deg-lmtl_PT1D-i\",\n",
    "    minimum_latitude=49.5,\n",
    "    maximum_latitude=50.5,\n",
    "    minimum_longitude=-145.5,\n",
    "    maximum_longitude=-144.5,\n",
    "    start_datetime=\"1998-01-01\",\n",
    "    end_datetime=\"2020-02-29\",\n",
    ")"
   ]
  },
  {
   "cell_type": "code",
   "execution_count": null,
   "metadata": {},
   "outputs": [],
   "source": [
    "physic = copernicusmarine.open_dataset(\n",
    "    dataset_id=\"cmems_mod_glo_bgc_my_0.083deg-lmtl-Fphy_PT1D-i\",\n",
    "    minimum_latitude=49.5,\n",
    "    maximum_latitude=50.5,\n",
    "    minimum_longitude=-145.5,\n",
    "    maximum_longitude=-144.5,\n",
    "    start_datetime=\"1998-01-01\",\n",
    "    end_datetime=\"2020-02-29\",\n",
    ")"
   ]
  },
  {
   "cell_type": "code",
   "execution_count": null,
   "metadata": {},
   "outputs": [],
   "source": [
    "bio.load()"
   ]
  },
  {
   "cell_type": "code",
   "execution_count": null,
   "metadata": {},
   "outputs": [],
   "source": [
    "physic.load()"
   ]
  },
  {
   "cell_type": "code",
   "execution_count": null,
   "metadata": {},
   "outputs": [],
   "source": [
    "papa_data = xr.merge([bio, physic])\n",
    "papa_data"
   ]
  },
  {
   "cell_type": "code",
   "execution_count": null,
   "metadata": {},
   "outputs": [],
   "source": [
    "papa_data[\"time\"].attrs[\"axis\"] = \"T\""
   ]
  },
  {
   "cell_type": "code",
   "execution_count": null,
   "metadata": {},
   "outputs": [],
   "source": [
    "papa_data.to_zarr(\"../../data/phd/CMEMS/papa_position/cmems_mod_glo_bgc_0_083deg.zarr\", mode=\"w\")"
   ]
  }
 ],
 "metadata": {
  "kernelspec": {
   "display_name": ".venv",
   "language": "python",
   "name": "python3"
  },
  "language_info": {
   "codemirror_mode": {
    "name": "ipython",
    "version": 3
   },
   "file_extension": ".py",
   "mimetype": "text/x-python",
   "name": "python",
   "nbconvert_exporter": "python",
   "pygments_lexer": "ipython3",
   "version": "3.12.3"
  }
 },
 "nbformat": 4,
 "nbformat_minor": 2
}
