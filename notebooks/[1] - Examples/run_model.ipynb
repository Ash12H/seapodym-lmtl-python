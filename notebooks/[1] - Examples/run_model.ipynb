{
 "cells": [
  {
   "cell_type": "code",
   "execution_count": 1,
   "metadata": {},
   "outputs": [],
   "source": [
    "import warnings\n",
    "\n",
    "import numpy as np\n",
    "\n",
    "from seapodym_lmtl_python.configuration.no_transport.parameter_forcing import ForcingUnit\n",
    "from seapodym_lmtl_python.configuration.no_transport.parameter_functional_group import (\n",
    "    FunctionalGroupUnit,\n",
    "    FunctionalGroupUnitMigratoryParameters,\n",
    "    FunctionalGroupUnitRelationParameters,\n",
    ")\n",
    "from seapodym_lmtl_python.configuration.no_transport.parameters import (\n",
    "    ForcingParameters,\n",
    "    FunctionalGroups,\n",
    "    NoTransportParameters,\n",
    ")\n",
    "from seapodym_lmtl_python.logging.custom_logger import set_critical, set_debug, set_error, set_verbose, set_warning\n",
    "from seapodym_lmtl_python.model.no_transport_model import NoTransportModel\n",
    "from seapodym_lmtl_python.configuration.no_transport.parameter_environment import (\n",
    "    ChunkParameter,\n",
    "    ClientParameter,\n",
    "    EnvironmentParameter,\n",
    "    OutputParameter,\n",
    "    PreProductionParameter,\n",
    ")"
   ]
  },
  {
   "cell_type": "code",
   "execution_count": null,
   "metadata": {},
   "outputs": [],
   "source": [
    "path_forcing = (\n",
    "    \"/Users/ash/Documents/Workspaces/Data/phd/cmems_mod_glo_bgc_my_0.083deg-lmtl-Fphy_PT1D-i_1709010880580.nc\"\n",
    ")\n",
    "path_bio = \"/Users/ash/Documents/Workspaces/Data/phd/cmems_mod_glo_bgc_my_0.083deg-lmtl_PT1D-i_1709007157635.nc\""
   ]
  },
  {
   "cell_type": "markdown",
   "metadata": {},
   "source": [
    "> Set the verbosity of the program.\n"
   ]
  },
  {
   "cell_type": "code",
   "execution_count": null,
   "metadata": {},
   "outputs": [],
   "source": [
    "MODE = 4\n",
    "\n",
    "# ------------ #\n",
    "if MODE == 1:\n",
    "    set_debug()\n",
    "elif MODE == 2:\n",
    "    set_verbose()\n",
    "elif MODE == 3:\n",
    "    set_warning()\n",
    "elif MODE == 4:\n",
    "    set_error()\n",
    "    warnings.filterwarnings(\"ignore\")\n",
    "else:\n",
    "    set_critical()\n",
    "    warnings.filterwarnings(\"ignore\")"
   ]
  },
  {
   "cell_type": "markdown",
   "metadata": {},
   "source": [
    "## Initialize the functional groups\n"
   ]
  },
  {
   "cell_type": "code",
   "execution_count": null,
   "metadata": {},
   "outputs": [],
   "source": [
    "f_groups = []\n",
    "\n",
    "# By functional group\n",
    "day_layer = [1, 2, 2, 3, 3, 3]\n",
    "night_layer = [1, 2, 1, 3, 2, 1]\n",
    "energy_transfert = [0.17, 0.1, 0.22, 0.18, 0.13, 0.2]\n",
    "# tr_max = [20, 30, 40, 50, 60, 70] # larger dataset\n",
    "tr_max = [2, 3, 4, 5, 6, 7]\n",
    "\n",
    "for dl, nl, ec, trm in zip(day_layer, night_layer, energy_transfert, tr_max):\n",
    "    fg_f_param = FunctionalGroupUnitRelationParameters(\n",
    "        inv_lambda_max=2109,\n",
    "        inv_lambda_rate=0.125,\n",
    "        temperature_recruitment_rate=-0.125,\n",
    "        cohorts_timesteps=np.arange(1, trm + 1),\n",
    "        temperature_recruitment_max=np.sum(np.arange(1, trm + 1)),\n",
    "    )\n",
    "    fg_m_param = FunctionalGroupUnitMigratoryParameters(\n",
    "        day_layer=dl,\n",
    "        night_layer=nl,\n",
    "    )\n",
    "    f_groups.append(\n",
    "        FunctionalGroupUnit(\n",
    "            name=f\"D{dl}N{nl}\",\n",
    "            migratory_type=fg_m_param,\n",
    "            functional_type=fg_f_param,\n",
    "            energy_transfert=0.0042 * ec,\n",
    "        )\n",
    "    )\n",
    "f_groups = FunctionalGroups(functional_groups=f_groups)\n",
    "\n",
    "p_param = ForcingParameters(\n",
    "    temperature=ForcingUnit.from_path(forcing=path_forcing, name=\"T\", resolution=0.08333),\n",
    "    primary_production=ForcingUnit.from_path(forcing=path_bio, name=\"npp\", resolution=0.08333),\n",
    ")\n",
    "\n",
    "parameters = NoTransportParameters(\n",
    "    functional_groups_parameters=f_groups,\n",
    "    forcing_parameters=p_param,\n",
    "    environment_parameters=EnvironmentParameter(\n",
    "        chunk=ChunkParameter(functional_group=1),\n",
    "        client=ClientParameter(n_workers=4, threads_per_worker=1, memory_limit=\"4GB\"),\n",
    "        output=OutputParameter(pre_production=PreProductionParameter()),\n",
    "    ),\n",
    ")"
   ]
  },
  {
   "cell_type": "markdown",
   "metadata": {},
   "source": [
    "## Initialize the model\n"
   ]
  },
  {
   "cell_type": "code",
   "execution_count": null,
   "metadata": {},
   "outputs": [],
   "source": [
    "my_class = NoTransportModel(configuration=parameters)\n",
    "my_class.generate_configuration()\n",
    "my_class.state"
   ]
  },
  {
   "cell_type": "code",
   "execution_count": null,
   "metadata": {},
   "outputs": [],
   "source": [
    "my_class.initialize()\n",
    "my_class.client"
   ]
  },
  {
   "cell_type": "markdown",
   "metadata": {},
   "source": [
    "## Compute pre-production\n",
    "\n",
    "This part is computed before the production step. All part of the process that can be pre-computed in parallele should be done here.\n"
   ]
  },
  {
   "cell_type": "code",
   "execution_count": null,
   "metadata": {},
   "outputs": [],
   "source": [
    "my_class.pre_production()"
   ]
  },
  {
   "cell_type": "markdown",
   "metadata": {},
   "source": [
    "## Compute production\n",
    "\n",
    "This step is time dependent.\n"
   ]
  },
  {
   "cell_type": "code",
   "execution_count": null,
   "metadata": {},
   "outputs": [],
   "source": [
    "my_class.production()"
   ]
  },
  {
   "cell_type": "markdown",
   "metadata": {},
   "source": [
    "## Here we compute the output of the model\n"
   ]
  },
  {
   "cell_type": "code",
   "execution_count": null,
   "metadata": {},
   "outputs": [],
   "source": [
    "my_class.post_production()"
   ]
  },
  {
   "cell_type": "markdown",
   "metadata": {},
   "source": [
    "## Plotting the results\n"
   ]
  },
  {
   "cell_type": "code",
   "execution_count": null,
   "metadata": {},
   "outputs": [],
   "source": [
    "biomass = my_class.state.biomass.load()"
   ]
  },
  {
   "cell_type": "code",
   "execution_count": null,
   "metadata": {},
   "outputs": [],
   "source": [
    "biomass.cf.sum((\"X\", \"Y\")).cf.plot.line(x=\"T\", hue=\"functional_group\")"
   ]
  },
  {
   "cell_type": "code",
   "execution_count": null,
   "metadata": {},
   "outputs": [],
   "source": [
    "my_class.state"
   ]
  }
 ],
 "metadata": {
  "kernelspec": {
   "display_name": ".venv",
   "language": "python",
   "name": "python3"
  },
  "language_info": {
   "codemirror_mode": {
    "name": "ipython",
    "version": 3
   },
   "file_extension": ".py",
   "mimetype": "text/x-python",
   "name": "python",
   "nbconvert_exporter": "python",
   "pygments_lexer": "ipython3",
   "version": "3.12.2"
  }
 },
 "nbformat": 4,
 "nbformat_minor": 2
}
