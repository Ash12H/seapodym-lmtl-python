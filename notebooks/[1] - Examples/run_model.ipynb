{
 "cells": [
  {
   "cell_type": "code",
   "execution_count": null,
   "metadata": {},
   "outputs": [],
   "source": [
    "from seapodym_lmtl_python.config.parameters import (\n",
    "    FunctionalGroupUnit,\n",
    "    FunctionalGroups,\n",
    "    FunctionParameters,\n",
    "    PathParametersUnit,\n",
    "    PathParameters,\n",
    "    Parameters\n",
    ")\n",
    "\n",
    "from seapodym_lmtl_python.config.client import (\n",
    "    init_client_locally,\n",
    "    close_client_locally\n",
    ")\n",
    "\n",
    "from seapodym_lmtl_python.config.parser import parse_configuration_file\n",
    "\n",
    "from seapodym_lmtl_python.config.saving import (\n",
    "    save_configuration_locally,\n",
    "    save_outputs_locally\n",
    ")\n",
    "\n",
    "from seapodym_lmtl_python.config import model_configuration\n",
    "from seapodym_lmtl_python.pre_production import pre_production\n",
    "from seapodym_lmtl_python.post_production import biomass\n",
    "from seapodym_lmtl_python.production import production"
   ]
  },
  {
   "cell_type": "markdown",
   "metadata": {},
   "source": [
    "### The model is run in 8 steps:\n",
    "1. Parse the configuration file.\n",
    "2. Initialize the Dask client/cluster.\n",
    "3. Generate the configuration.\n",
    "4. Run the pre-production process.\n",
    "(4.bis Save the configuration.)\n",
    "5. Run the production process.\n",
    "(5.bis Save the configuration.)\n",
    "6. Run the biomass process.\n",
    "7. Save the outputs.\n",
    "8. Close the client."
   ]
  },
  {
   "cell_type": "markdown",
   "metadata": {},
   "source": [
    "---\n",
    "# 1. PARSE (CLI integration is done here)"
   ]
  },
  {
   "cell_type": "code",
   "execution_count": null,
   "metadata": {},
   "outputs": [],
   "source": [
    "# parameters = parse_configuration_file(configuration_file_path, kwargs)"
   ]
  },
  {
   "cell_type": "markdown",
   "metadata": {},
   "source": [
    "> We are doing it by hand for now. ✍🏻"
   ]
  },
  {
   "cell_type": "code",
   "execution_count": null,
   "metadata": {},
   "outputs": [],
   "source": [
    "path_forcing = \"/Users/ash/Documents/Workspaces/Data/phd/cmems_mod_glo_bgc_my_0.083deg-lmtl-Fphy_PT1D-i_1709010880580.nc\"\n",
    "path_bio = \"/Users/ash/Documents/Workspaces/Data/phd/cmems_mod_glo_bgc_my_0.083deg-lmtl_PT1D-i_1709007157635.nc\""
   ]
  },
  {
   "cell_type": "code",
   "execution_count": null,
   "metadata": {},
   "outputs": [],
   "source": [
    "\n",
    "f_param = FunctionParameters(\n",
    "    inv_lambda_max=2109,\n",
    "    inv_lambda_rate=0.125,\n",
    "    temperature_recruitment_rate=0.125,\n",
    "    temperature_recruitment_max=527,\n",
    "    energy_transfert=0.0042,\n",
    ")\n",
    "# ---------------------------- #\n",
    "f_groups = []\n",
    "for dl, nl, ec in zip(\n",
    "    [1, 2, 2, 3, 3, 3], [1, 2, 1, 3, 2, 1], [0.17, 0.1, 0.22, 0.18, 0.13, 0.2]\n",
    "):\n",
    "    f_groups.append(\n",
    "        FunctionalGroupUnit(\n",
    "            name=f\"D{dl}N{nl}\",\n",
    "            day_layer=dl,\n",
    "            night_layer=nl,\n",
    "            energy_coefficient=ec,\n",
    "        )\n",
    "    )\n",
    "f_groups = FunctionalGroups(functional_groups=f_groups)\n",
    "# ---------------------------- #\n",
    "p_param = PathParameters(\n",
    "    temperature=PathParametersUnit(forcing_path=path_forcing, name=\"T\"),\n",
    "    primary_production=PathParametersUnit(forcing_path=path_bio, name=\"npp\"),\n",
    ")\n",
    "# ---------------------------- #\n",
    "parameters = Parameters(\n",
    "    function_parameters=f_param,\n",
    "    functional_groups_parameters=f_groups,\n",
    "    path_parameters=p_param,\n",
    ")\n",
    "# ---------------------------- #"
   ]
  },
  {
   "cell_type": "markdown",
   "metadata": {},
   "source": [
    "---\n",
    "# 2. INITIALIZE THE DASK CLIENT/CLUSTER"
   ]
  },
  {
   "cell_type": "code",
   "execution_count": null,
   "metadata": {},
   "outputs": [],
   "source": [
    "client = init_client_locally(None)\n",
    "client"
   ]
  },
  {
   "cell_type": "markdown",
   "metadata": {},
   "source": [
    "---\n",
    "# 3. GENERATE THE CONFIGURATION"
   ]
  },
  {
   "cell_type": "code",
   "execution_count": null,
   "metadata": {},
   "outputs": [],
   "source": [
    "configuration = model_configuration.process(parameters)\n",
    "configuration"
   ]
  },
  {
   "cell_type": "markdown",
   "metadata": {},
   "source": [
    "---\n",
    "# 4. RUN THE PRE-PRODUCTION PROCESS"
   ]
  },
  {
   "cell_type": "code",
   "execution_count": null,
   "metadata": {},
   "outputs": [],
   "source": [
    "configuration.cf[[\"Y\",\"X\"]]"
   ]
  },
  {
   "cell_type": "code",
   "execution_count": null,
   "metadata": {},
   "outputs": [],
   "source": [
    "configuration = pre_production.process(client, configuration)\n",
    "configuration"
   ]
  },
  {
   "cell_type": "markdown",
   "metadata": {},
   "source": [
    "---\n",
    "# 1. PARSE (CLI integration is done here)"
   ]
  },
  {
   "cell_type": "code",
   "execution_count": null,
   "metadata": {},
   "outputs": [],
   "source": [
    "# 4. RUN THE PRE-PRODUCTION PROCESS\n",
    "configuration = pre_production.process(client, configuration)\n",
    "\n",
    "# 4.bis SAVE THE CONFIGURATION ?\n",
    "save_configuration_locally(configuration)\n",
    "\n",
    "# 5. RUN THE PRODUCTION PROCESS\n",
    "\n",
    "configuration = production.process(configuration)\n",
    "\n",
    "# 5.bis SAVE THE CONFIGURATION ?\n",
    "save_configuration_locally(configuration)\n",
    "\n",
    "# 6. RUN BIOMASS PROCESS\n",
    "configuration = biomass.process(client, configuration)\n",
    "\n",
    "# 7. SAVE THE OUTPUTS\n",
    "save_outputs_locally(configuration)\n",
    "\n",
    "# 8. CLOSE THE CLIENT\n",
    "close_client_locally(client)"
   ]
  }
 ],
 "metadata": {
  "kernelspec": {
   "display_name": ".venv",
   "language": "python",
   "name": "python3"
  },
  "language_info": {
   "codemirror_mode": {
    "name": "ipython",
    "version": 3
   },
   "file_extension": ".py",
   "mimetype": "text/x-python",
   "name": "python",
   "nbconvert_exporter": "python",
   "pygments_lexer": "ipython3",
   "version": "3.12.1"
  }
 },
 "nbformat": 4,
 "nbformat_minor": 2
}
