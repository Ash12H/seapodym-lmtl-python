{
 "cells": [
  {
   "cell_type": "code",
   "execution_count": 1,
   "metadata": {},
   "outputs": [],
   "source": [
    "import xarray as xr\n",
    "import numpy as np\n",
    "import dask.array as da"
   ]
  },
  {
   "cell_type": "code",
   "execution_count": 2,
   "metadata": {},
   "outputs": [],
   "source": [
    "coords = {\n",
    "    \"time\": np.arange(100),\n",
    "    \"lat\": np.arange(100),\n",
    "    \"lon\": np.arange(100),\n",
    "}"
   ]
  },
  {
   "cell_type": "code",
   "execution_count": 3,
   "metadata": {},
   "outputs": [
    {
     "name": "stdout",
     "output_type": "stream",
     "text": [
      "577 µs ± 7.76 µs per loop (mean ± std. dev. of 7 runs, 1,000 loops each)\n"
     ]
    }
   ],
   "source": [
    "%%timeit\n",
    "data_dasked = xr.DataArray(\n",
    "    dims=[\"time\", \"lat\", \"lon\"],\n",
    "    coords=coords,\n",
    "    data=da.empty((100, 100, 100)),\n",
    ")"
   ]
  },
  {
   "cell_type": "code",
   "execution_count": 4,
   "metadata": {},
   "outputs": [
    {
     "name": "stdout",
     "output_type": "stream",
     "text": [
      "210 µs ± 2.9 µs per loop (mean ± std. dev. of 7 runs, 1,000 loops each)\n"
     ]
    }
   ],
   "source": [
    "%%timeit\n",
    "data_numpy = xr.DataArray(\n",
    "    dims=[\"time\", \"lat\", \"lon\"],\n",
    "    coords=coords,\n",
    "    data=np.empty((100, 100, 100)),\n",
    ")"
   ]
  },
  {
   "cell_type": "markdown",
   "metadata": {},
   "source": [
    "---\n",
    "\n",
    "# Now we define a chunk\n"
   ]
  },
  {
   "cell_type": "code",
   "execution_count": 5,
   "metadata": {},
   "outputs": [
    {
     "name": "stdout",
     "output_type": "stream",
     "text": [
      "4.34 ms ± 48.7 µs per loop (mean ± std. dev. of 7 runs, 100 loops each)\n"
     ]
    }
   ],
   "source": [
    "%%timeit\n",
    "xr.DataArray(\n",
    "    dims=[\"time\", \"lat\", \"lon\"],\n",
    "    coords=coords,\n",
    "    data=da.empty((100, 100, 100)),\n",
    "    name=\"dask\",\n",
    "    attrs={\"units\": \"m\"},\n",
    ").chunk({\"time\": 10, \"lat\": 10, \"lon\": 10})"
   ]
  },
  {
   "cell_type": "code",
   "execution_count": 6,
   "metadata": {},
   "outputs": [
    {
     "name": "stdout",
     "output_type": "stream",
     "text": [
      "5.89 ms ± 150 µs per loop (mean ± std. dev. of 7 runs, 100 loops each)\n"
     ]
    }
   ],
   "source": [
    "%%timeit\n",
    "xr.DataArray(\n",
    "    dims=[\"time\", \"lat\", \"lon\"],\n",
    "    coords=coords,\n",
    "    data=np.empty((100, 100, 100)),\n",
    "    name=\"numpy\",\n",
    "    attrs={\"units\": \"m\"},\n",
    ").chunk({\"time\": 10, \"lat\": 10, \"lon\": 10})"
   ]
  },
  {
   "cell_type": "code",
   "execution_count": 7,
   "metadata": {},
   "outputs": [
    {
     "name": "stdout",
     "output_type": "stream",
     "text": [
      "585 µs ± 5.35 µs per loop (mean ± std. dev. of 7 runs, 1,000 loops each)\n"
     ]
    }
   ],
   "source": [
    "%%timeit\n",
    "xr.DataArray(\n",
    "    dims=[\"time\", \"lat\", \"lon\"],\n",
    "    coords=coords,\n",
    "    data=da.empty((100, 100, 100), chunks=(10, 10, 10)),\n",
    "    name=\"dask_already_chunked\",\n",
    "    attrs={\"units\": \"m\"},\n",
    ")"
   ]
  },
  {
   "cell_type": "markdown",
   "metadata": {},
   "source": [
    "## Results\n",
    "\n",
    "We can see that the empty dask array that is already chunked at creation is the fastest to compute.\n"
   ]
  },
  {
   "cell_type": "markdown",
   "metadata": {},
   "source": [
    "---\n"
   ]
  },
  {
   "cell_type": "markdown",
   "metadata": {},
   "source": [
    "#### Here we want to see if the mirror creation is worth the time it takes to create the chunks.\n"
   ]
  },
  {
   "cell_type": "code",
   "execution_count": 13,
   "metadata": {},
   "outputs": [],
   "source": [
    "data_chunked = xr.DataArray(\n",
    "    dims=[\"time\", \"lat\", \"lon\"],\n",
    "    coords=coords,\n",
    "    data=np.empty((100, 100, 100)),\n",
    "    name=\"numpy\",\n",
    "    attrs={\"units\": \"m\"},\n",
    ").chunk({\"time\": 10, \"lat\": 10, \"lon\": 10})"
   ]
  },
  {
   "cell_type": "code",
   "execution_count": 15,
   "metadata": {},
   "outputs": [
    {
     "name": "stdout",
     "output_type": "stream",
     "text": [
      "254 µs ± 6.18 µs per loop (mean ± std. dev. of 7 runs, 1,000 loops each)\n"
     ]
    }
   ],
   "source": [
    "%%timeit\n",
    "results = data_chunked.copy()\n",
    "if results.chunks != (10, 10, 10):\n",
    "    results = results.chunk({\"time\": 10, \"lat\": 10, \"lon\": 10})"
   ]
  },
  {
   "cell_type": "code",
   "execution_count": 17,
   "metadata": {},
   "outputs": [],
   "source": [
    "data = xr.DataArray(\n",
    "    dims=[\"time\", \"lat\", \"lon\"],\n",
    "    coords=coords,\n",
    "    data=np.empty((100, 100, 100)),\n",
    "    name=\"numpy\",\n",
    "    attrs={\"units\": \"m\"},\n",
    ")"
   ]
  },
  {
   "cell_type": "code",
   "execution_count": 18,
   "metadata": {},
   "outputs": [
    {
     "name": "stdout",
     "output_type": "stream",
     "text": [
      "6.08 ms ± 111 µs per loop (mean ± std. dev. of 7 runs, 100 loops each)\n"
     ]
    }
   ],
   "source": [
    "%%timeit\n",
    "results = data.copy()\n",
    "if results.chunks != (10, 10, 10):\n",
    "    results = results.chunk({\"time\": 10, \"lat\": 10, \"lon\": 10})"
   ]
  },
  {
   "cell_type": "markdown",
   "metadata": {},
   "source": [
    "Mirroring when chunking is not necessary is **twice as fast** than lazy creation.\n",
    "\n",
    "But if we need to chunk the mirrored array, it is more than **10 times slower** than the lazy creation.\n",
    "\n",
    "Only LazyTemplate supplies should be used.\n"
   ]
  }
 ],
 "metadata": {
  "kernelspec": {
   "display_name": ".venv",
   "language": "python",
   "name": "python3"
  },
  "language_info": {
   "codemirror_mode": {
    "name": "ipython",
    "version": 3
   },
   "file_extension": ".py",
   "mimetype": "text/x-python",
   "name": "python",
   "nbconvert_exporter": "python",
   "pygments_lexer": "ipython3",
   "version": "3.12.2"
  }
 },
 "nbformat": 4,
 "nbformat_minor": 2
}
