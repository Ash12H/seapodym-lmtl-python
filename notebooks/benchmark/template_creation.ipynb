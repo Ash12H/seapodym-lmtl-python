{
 "cells": [
  {
   "cell_type": "code",
   "execution_count": 1,
   "metadata": {},
   "outputs": [],
   "source": [
    "import xarray as xr\n",
    "import numpy as np\n",
    "import dask.array as da"
   ]
  },
  {
   "cell_type": "code",
   "execution_count": 2,
   "metadata": {},
   "outputs": [],
   "source": [
    "coords = {\n",
    "    \"time\": np.arange(100),\n",
    "    \"lat\": np.arange(100),\n",
    "    \"lon\": np.arange(100),\n",
    "}"
   ]
  },
  {
   "cell_type": "code",
   "execution_count": 3,
   "metadata": {},
   "outputs": [
    {
     "name": "stdout",
     "output_type": "stream",
     "text": [
      "603 µs ± 24.6 µs per loop (mean ± std. dev. of 7 runs, 1,000 loops each)\n"
     ]
    }
   ],
   "source": [
    "%%timeit\n",
    "data_dasked = xr.DataArray(\n",
    "    dims=[\"time\", \"lat\", \"lon\"],\n",
    "    coords=coords,\n",
    "    data=da.empty((100, 100, 100)),\n",
    ")"
   ]
  },
  {
   "cell_type": "code",
   "execution_count": 4,
   "metadata": {},
   "outputs": [
    {
     "name": "stdout",
     "output_type": "stream",
     "text": [
      "202 µs ± 1.25 µs per loop (mean ± std. dev. of 7 runs, 1,000 loops each)\n"
     ]
    }
   ],
   "source": [
    "%%timeit\n",
    "data_numpy = xr.DataArray(\n",
    "    dims=[\"time\", \"lat\", \"lon\"],\n",
    "    coords=coords,\n",
    "    data=np.empty((100, 100, 100)),\n",
    ")"
   ]
  },
  {
   "cell_type": "markdown",
   "metadata": {},
   "source": [
    "---\n",
    "\n",
    "# Now we define a chunk\n"
   ]
  },
  {
   "cell_type": "code",
   "execution_count": 5,
   "metadata": {},
   "outputs": [
    {
     "name": "stdout",
     "output_type": "stream",
     "text": [
      "4.27 ms ± 19.7 µs per loop (mean ± std. dev. of 7 runs, 100 loops each)\n"
     ]
    }
   ],
   "source": [
    "%%timeit\n",
    "xr.DataArray(\n",
    "    dims=[\"time\", \"lat\", \"lon\"],\n",
    "    coords=coords,\n",
    "    data=da.empty((100, 100, 100)),\n",
    "    name=\"dask\",\n",
    "    attrs={\"units\": \"m\"},\n",
    ").chunk({\"time\": 10, \"lat\": 10, \"lon\": 10})"
   ]
  },
  {
   "cell_type": "code",
   "execution_count": 6,
   "metadata": {},
   "outputs": [
    {
     "name": "stdout",
     "output_type": "stream",
     "text": [
      "5.62 ms ± 12.7 µs per loop (mean ± std. dev. of 7 runs, 100 loops each)\n"
     ]
    }
   ],
   "source": [
    "%%timeit\n",
    "xr.DataArray(\n",
    "    dims=[\"time\", \"lat\", \"lon\"],\n",
    "    coords=coords,\n",
    "    data=np.empty((100, 100, 100)),\n",
    "    name=\"numpy\",\n",
    "    attrs={\"units\": \"m\"},\n",
    ").chunk({\"time\": 10, \"lat\": 10, \"lon\": 10})"
   ]
  },
  {
   "cell_type": "code",
   "execution_count": 7,
   "metadata": {},
   "outputs": [
    {
     "name": "stdout",
     "output_type": "stream",
     "text": [
      "590 µs ± 8.98 µs per loop (mean ± std. dev. of 7 runs, 1,000 loops each)\n"
     ]
    }
   ],
   "source": [
    "%%timeit\n",
    "xr.DataArray(\n",
    "    dims=[\"time\", \"lat\", \"lon\"],\n",
    "    coords=coords,\n",
    "    data=da.empty((100, 100, 100), chunks=(10, 10, 10)),\n",
    "    name=\"dask_already_chunked\",\n",
    "    attrs={\"units\": \"m\"},\n",
    ")"
   ]
  },
  {
   "cell_type": "markdown",
   "metadata": {},
   "source": [
    "## Results\n",
    "\n",
    "We can see that the empty dask array that is already chunked at creation is the fastest to compute.\n"
   ]
  }
 ],
 "metadata": {
  "kernelspec": {
   "display_name": ".venv",
   "language": "python",
   "name": "python3"
  },
  "language_info": {
   "codemirror_mode": {
    "name": "ipython",
    "version": 3
   },
   "file_extension": ".py",
   "mimetype": "text/x-python",
   "name": "python",
   "nbconvert_exporter": "python",
   "pygments_lexer": "ipython3",
   "version": "3.12.2"
  }
 },
 "nbformat": 4,
 "nbformat_minor": 2
}
